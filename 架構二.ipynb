{
  "cells": [
    {
      "cell_type": "code",
      "execution_count": 1,
      "metadata": {
        "id": "Tw-tpHZtdz69",
        "colab": {
          "base_uri": "https://localhost:8080/"
        },
        "outputId": "8125e01e-a09a-47d1-d8c1-b35ceeb363eb"
      },
      "outputs": [
        {
          "output_type": "stream",
          "name": "stdout",
          "text": [
            "Mounted at /content/drive\n"
          ]
        }
      ],
      "source": [
        "import os\n",
        "import torch\n",
        "import numpy as np\n",
        "import torch.nn as nn\n",
        "from google.colab import drive\n",
        "from matplotlib import pyplot as plt\n",
        "from torchvision import datasets\n",
        "from torch.utils.data import Dataset, DataLoader\n",
        "from torchvision import transforms, utils\n",
        "import torch.nn.functional as F\n",
        "from PIL import Image\n",
        "drive.mount('/content/drive')#讀雲端檔案"
      ]
    },
    {
      "cell_type": "code",
      "execution_count": 2,
      "metadata": {
        "id": "FEotrnpjenjv"
      },
      "outputs": [],
      "source": [
        "#將圖片切割pos_num輸入是0,1,2,3分別對應圖片四角，回傳對應位置切割好的圖片\n",
        "def image_cut(imgs,pos_num):\n",
        "  pos_num=pos_num\n",
        "  if pos_num==0:\n",
        "    imgs=imgs.crop((0,0,imgs.size[0]/2,imgs.size[1]/2))\n",
        "  elif pos_num==1:\n",
        "    imgs=imgs.crop((imgs.size[0]/2,0,imgs.size[0],imgs.size[1]/2))\n",
        "  elif pos_num==2:\n",
        "    imgs=imgs.crop((0,imgs.size[1]/2,imgs.size[0]/2,imgs.size[1]))\n",
        "  elif pos_num==3:\n",
        "    imgs=imgs.crop((imgs.size[0]/2,imgs.size[1]/2,imgs.size[0],imgs.size[1]))\n",
        "  else:\n",
        "    print(\"xx\")\n",
        "  return imgs \n",
        "#將圖片切割後根據輸入黏回，輸入是0,1,2,3分別對應圖片四角，回傳對應位置黏好的圖片\n",
        "def image_paste(image_result,imgs,pos_num):\n",
        "  x=int(image_result.size[0]/2)\n",
        "  y=int(image_result.size[1]/2)\n",
        "  if pos_num==0:\n",
        "    image_result.paste(imgs,(0,0))\n",
        "  elif pos_num==1:\n",
        "    image_result.paste(imgs,(x,0))\n",
        "  elif pos_num==2:\n",
        "    image_result.paste(imgs,(0,y))\n",
        "  elif pos_num==3:\n",
        "    image_result.paste(imgs,(x,y))\n",
        "  else:\n",
        "    print(\"xx\")\n",
        "  return image_result"
      ]
    },
    {
      "cell_type": "code",
      "execution_count": 3,
      "metadata": {
        "id": "utbmngHOewri"
      },
      "outputs": [],
      "source": [
        "#建立訓練圖片路徑及圖片標示\n",
        "puzzle_numpy = np.loadtxt('/content/drive/MyDrive/DL_final/puzzle_train/labels.csv',dtype=str,delimiter=',')\n",
        "puzzle_labels = list(i for i in puzzle_numpy[:,-1])\n",
        "puzzle_t_labels = np.zeros((len(puzzle_labels),4))\n",
        "for i in range(len(puzzle_labels)):\n",
        "  for j in range(4):\n",
        "    puzzle_t_labels[i][j] = puzzle_labels[i][j]\n",
        "\n",
        "puzzle_t_labels = torch.tensor(puzzle_t_labels).to(torch.long)\n",
        "puzzle_name  = [i + '.jpg' for i in puzzle_numpy[:,0]]\n",
        "puzzle_path = [os.path.join('/content/drive/MyDrive/DL_final/puzzle_train/train/',i) for i in puzzle_name ]"
      ]
    },
    {
      "cell_type": "code",
      "source": [
        "#建立驗證圖片路徑及圖片標示\n",
        "val_numpy = np.loadtxt('/content/drive/MyDrive/DL_final/puzzle_train/val_labels.csv',dtype=str,delimiter=',')\n",
        "val_labels = list(i for i in val_numpy[:,-1])\n",
        "val_t_labels = np.zeros((len(val_labels),4))\n",
        "for i in range(len(val_labels)):\n",
        "  for j in range(4):\n",
        "    val_t_labels[i][j] = val_labels[i][j]\n",
        "\n",
        "val_t_labels = torch.tensor(val_t_labels).to(torch.long)\n",
        "val_name  = [i + '.jpg' for i in val_numpy[:,0]]\n",
        "val_path = [os.path.join('/content/drive/MyDrive/DL_final/puzzle_train/validation/',i) for i in val_name ]"
      ],
      "metadata": {
        "id": "gwsvDJr4cTzz"
      },
      "execution_count": 4,
      "outputs": []
    },
    {
      "cell_type": "code",
      "source": [
        "#計算mean、std\n",
        "preporecess_shape = transforms.Compose([transforms.Resize([96,96]),transforms.ToTensor()])\n",
        "imgs=torch.stack([preporecess_shape(Image.open(puzzle_path[i])) for i in range(len(puzzle_path))],dim=3)\n",
        "m = imgs.view(3,-1).mean(dim=1)\n",
        "s = imgs.view(3,-1).std(dim=1)\n",
        "print(imgs.shape)\n",
        "print(m)\n",
        "print(s)\n",
        "mm = [round(i,3) for i in m.tolist()]#[0.5624, 0.5470, 0.5120]\n",
        "ss = [round(i,3) for i in s.tolist()]#[0.2945, 0.2836, 0.3154]"
      ],
      "metadata": {
        "colab": {
          "base_uri": "https://localhost:8080/"
        },
        "id": "6bs0wC3nsdNL",
        "outputId": "e359f890-8909-4f38-9ec5-10dfda8505cd"
      },
      "execution_count": 5,
      "outputs": [
        {
          "output_type": "stream",
          "name": "stdout",
          "text": [
            "torch.Size([3, 96, 96, 1000])\n",
            "tensor([0.5625, 0.5470, 0.5120])\n",
            "tensor([0.2891, 0.2782, 0.3104])\n"
          ]
        }
      ]
    },
    {
      "cell_type": "code",
      "execution_count": 6,
      "metadata": {
        "id": "zPB2iE7He0ld"
      },
      "outputs": [],
      "source": [
        "#前處理調整大小、轉換成張量、正規化\n",
        "preprocess = transforms.Compose([transforms.Resize([96,96]),\n",
        "                                 transforms.ToTensor(),\n",
        "                                 transforms.Normalize(mean=mm,std=ss)])\n",
        "def default_loader(path):\n",
        "  img_pil = Image.open(path)\n",
        "  img_pil0 = image_cut(img_pil,0)\n",
        "  img_pil1 = image_cut(img_pil,1)\n",
        "  img_pil2 = image_cut(img_pil,2)\n",
        "  img_pil3 = image_cut(img_pil,3)\n",
        "  img_tensor  = torch.stack((preprocess(img_pil0),preprocess(img_pil1),preprocess(img_pil2),preprocess(img_pil3)))\n",
        "  return img_tensor\n",
        "class TrainSet(Dataset):\n",
        "  def __init__(self, loader=default_loader):\n",
        "    self.images = puzzle_path#路徑、轉換\n",
        "    self.target = puzzle_t_labels\n",
        "    self.loader = loader\n",
        "  def __getitem__(self, index):\n",
        "    fn = self.images[index]#讀檔、前處理、回傳圖片、標籤\n",
        "    img = self.loader(fn)\n",
        "    target = self.target[index]\n",
        "    return img,target\n",
        "  def __len__(self):\n",
        "    return len(self.images)\n",
        "class ValidationSet(Dataset):\n",
        "  def __init__(self, loader=default_loader):\n",
        "    self.images = val_path#路徑、轉換\n",
        "    self.target = val_t_labels\n",
        "    self.loader = loader\n",
        "  def __getitem__(self, index):\n",
        "    fn = self.images[index]#讀檔、前處理、回傳圖片、標籤\n",
        "    img = self.loader(fn)\n",
        "    target = self.target[index]\n",
        "    return img,target\n",
        "  def __len__(self):\n",
        "    return len(self.images)"
      ]
    },
    {
      "cell_type": "code",
      "execution_count": 8,
      "metadata": {
        "id": "8BHQknv8fEeJ"
      },
      "outputs": [],
      "source": [
        "\n",
        "#建立函數式API\n",
        "class Net(nn.Module):\n",
        "    def __init__(self,n_channel=32):\n",
        "        super().__init__()\n",
        "        self.n_channel=n_channel\n",
        "        self.pad2d0 = nn.ZeroPad2d(2)\n",
        "        self.conv1 = nn.Conv2d(3,n_channel,kernel_size=3,padding=1)\n",
        "        self.conv1_batchnorm = nn.BatchNorm2d(n_channel)\n",
        "\n",
        "        self.conv2 = nn.Conv2d(n_channel,n_channel*2,kernel_size=3,padding=1)\n",
        "        self.conv2_batchnorm = nn.BatchNorm2d(n_channel*2)\n",
        "\n",
        "        self.conv3 = nn.Conv2d(n_channel*2,n_channel*4,kernel_size=3,padding=1)\n",
        "        self.conv3_batchnorm = nn.BatchNorm2d(n_channel*4)\n",
        "\n",
        "        self.conv4 = nn.Conv2d(n_channel*4,n_channel*8,kernel_size=3,padding=1)\n",
        "        self.conv4_batchnorm = nn.BatchNorm2d(n_channel*8)\n",
        "\n",
        "        self.conv5 = nn.Conv2d(n_channel*8,n_channel*16,kernel_size=3,padding=1)\n",
        "        self.conv5_batchnorm = nn.BatchNorm2d(n_channel*16)\n",
        "\n",
        "        \n",
        "        self.fc1 = nn.Linear(4*3*3*n_channel*16, 512)\n",
        "        self.conv6_batchnorm = nn.BatchNorm1d(512)\n",
        "        self.fc2 = nn.Linear(512,512)\n",
        "        self.conv7_batchnorm = nn.BatchNorm1d(512)\n",
        "        self.fc3 = nn.Linear(512, 16)\n",
        "        #self.SM = nn.LogSoftmax(dim=1)\n",
        "        \n",
        "    def forward(self,x):\n",
        "        x_reshaped = x.view(-1, 3,96,96,)\n",
        "\n",
        "        out = F.max_pool2d(self.conv1_batchnorm(torch.relu(self.conv1(x_reshaped))),2)\n",
        "        out = F.max_pool2d(self.conv2_batchnorm(torch.relu(self.conv2(out))),2)\n",
        "        out = F.max_pool2d(self.conv3_batchnorm(torch.relu(self.conv3(out))),2)\n",
        "        out = F.max_pool2d(self.conv4_batchnorm(torch.relu(self.conv4(out))),2)\n",
        "        out = F.max_pool2d(self.conv5_batchnorm(torch.relu(self.conv5(out))),2)\n",
        "        out = out.contiguous().view(x.size(0),-1,512,3,3)   \n",
        "        out = out.view(-1,4* 3*3* 512)        \n",
        "        out = torch.relu(self.fc1(out))\n",
        "        out =self.conv6_batchnorm(out)\n",
        "        out = self.conv7_batchnorm(torch.relu(self.fc2(out)))\n",
        "        out = self.fc3(out)\n",
        "        out = out.view(-1,4,4)\n",
        "        return out"
      ]
    },
    {
      "cell_type": "code",
      "execution_count": 9,
      "metadata": {
        "id": "Iu1U6bLrfL4W",
        "colab": {
          "base_uri": "https://localhost:8080/"
        },
        "outputId": "9f13e5b7-e0e7-4ec3-d8b6-656ae9a4aeef"
      },
      "outputs": [
        {
          "output_type": "stream",
          "name": "stdout",
          "text": [
            "1000\n",
            "100\n"
          ]
        }
      ],
      "source": [
        "train_data = TrainSet()\n",
        "val_data = ValidationSet()\n",
        "batch_size=64\n",
        "#train_size = int(len(train_dataset)*0.8)\n",
        "#val_size = len(train_dataset)-train_size\n",
        "#print(val_size)\n",
        "#train_data, val_data = torch.utils.data.random_split(train_dataset,[train_size, val_size])\n",
        "#print(len(train_dataset))\n",
        "print(len(train_data))\n",
        "print(len(val_data))\n",
        "trainloader = DataLoader(train_data,batch_size,shuffle=True)\n",
        "valloader = DataLoader(val_data,batch_size,shuffle=True)"
      ]
    },
    {
      "cell_type": "code",
      "source": [
        "train_loader=TrainSet()\n",
        "model = Net()\n",
        "for imgs, labels in trainloader:\n",
        "  outputs = model(imgs)"
      ],
      "metadata": {
        "colab": {
          "base_uri": "https://localhost:8080/",
          "height": 347
        },
        "id": "IlwdLbr1ycRh",
        "outputId": "1bf5b4a8-89f3-47bc-c165-2f45de91ea29"
      },
      "execution_count": null,
      "outputs": [
        {
          "output_type": "error",
          "ename": "KeyboardInterrupt",
          "evalue": "ignored",
          "traceback": [
            "\u001b[0;31m---------------------------------------------------------------------------\u001b[0m",
            "\u001b[0;31mKeyboardInterrupt\u001b[0m                         Traceback (most recent call last)",
            "\u001b[0;32m<ipython-input-76-93274af6bb64>\u001b[0m in \u001b[0;36m<module>\u001b[0;34m\u001b[0m\n\u001b[1;32m      2\u001b[0m \u001b[0mmodel\u001b[0m \u001b[0;34m=\u001b[0m \u001b[0mNet\u001b[0m\u001b[0;34m(\u001b[0m\u001b[0;34m)\u001b[0m\u001b[0;34m\u001b[0m\u001b[0;34m\u001b[0m\u001b[0m\n\u001b[1;32m      3\u001b[0m \u001b[0;32mfor\u001b[0m \u001b[0mimgs\u001b[0m\u001b[0;34m,\u001b[0m \u001b[0mlabels\u001b[0m \u001b[0;32min\u001b[0m \u001b[0mtrainloader\u001b[0m\u001b[0;34m:\u001b[0m\u001b[0;34m\u001b[0m\u001b[0;34m\u001b[0m\u001b[0m\n\u001b[0;32m----> 4\u001b[0;31m   \u001b[0moutputs\u001b[0m \u001b[0;34m=\u001b[0m \u001b[0mmodel\u001b[0m\u001b[0;34m(\u001b[0m\u001b[0mimgs\u001b[0m\u001b[0;34m)\u001b[0m\u001b[0;34m\u001b[0m\u001b[0;34m\u001b[0m\u001b[0m\n\u001b[0m",
            "\u001b[0;32m/usr/local/lib/python3.8/dist-packages/torch/nn/modules/module.py\u001b[0m in \u001b[0;36m_call_impl\u001b[0;34m(self, *input, **kwargs)\u001b[0m\n\u001b[1;32m   1192\u001b[0m         if not (self._backward_hooks or self._forward_hooks or self._forward_pre_hooks or _global_backward_hooks\n\u001b[1;32m   1193\u001b[0m                 or _global_forward_hooks or _global_forward_pre_hooks):\n\u001b[0;32m-> 1194\u001b[0;31m             \u001b[0;32mreturn\u001b[0m \u001b[0mforward_call\u001b[0m\u001b[0;34m(\u001b[0m\u001b[0;34m*\u001b[0m\u001b[0minput\u001b[0m\u001b[0;34m,\u001b[0m \u001b[0;34m**\u001b[0m\u001b[0mkwargs\u001b[0m\u001b[0;34m)\u001b[0m\u001b[0;34m\u001b[0m\u001b[0;34m\u001b[0m\u001b[0m\n\u001b[0m\u001b[1;32m   1195\u001b[0m         \u001b[0;31m# Do not call functions when jit is used\u001b[0m\u001b[0;34m\u001b[0m\u001b[0;34m\u001b[0m\u001b[0;34m\u001b[0m\u001b[0m\n\u001b[1;32m   1196\u001b[0m         \u001b[0mfull_backward_hooks\u001b[0m\u001b[0;34m,\u001b[0m \u001b[0mnon_full_backward_hooks\u001b[0m \u001b[0;34m=\u001b[0m \u001b[0;34m[\u001b[0m\u001b[0;34m]\u001b[0m\u001b[0;34m,\u001b[0m \u001b[0;34m[\u001b[0m\u001b[0;34m]\u001b[0m\u001b[0;34m\u001b[0m\u001b[0;34m\u001b[0m\u001b[0m\n",
            "\u001b[0;32m<ipython-input-72-761d27c2856b>\u001b[0m in \u001b[0;36mforward\u001b[0;34m(self, x)\u001b[0m\n\u001b[1;32m     32\u001b[0m \u001b[0;34m\u001b[0m\u001b[0m\n\u001b[1;32m     33\u001b[0m         \u001b[0mout\u001b[0m \u001b[0;34m=\u001b[0m \u001b[0mF\u001b[0m\u001b[0;34m.\u001b[0m\u001b[0mmax_pool2d\u001b[0m\u001b[0;34m(\u001b[0m\u001b[0mself\u001b[0m\u001b[0;34m.\u001b[0m\u001b[0mconv1_batchnorm\u001b[0m\u001b[0;34m(\u001b[0m\u001b[0mtorch\u001b[0m\u001b[0;34m.\u001b[0m\u001b[0mrelu\u001b[0m\u001b[0;34m(\u001b[0m\u001b[0mself\u001b[0m\u001b[0;34m.\u001b[0m\u001b[0mconv1\u001b[0m\u001b[0;34m(\u001b[0m\u001b[0mx_reshaped\u001b[0m\u001b[0;34m)\u001b[0m\u001b[0;34m)\u001b[0m\u001b[0;34m)\u001b[0m\u001b[0;34m,\u001b[0m\u001b[0;36m2\u001b[0m\u001b[0;34m)\u001b[0m\u001b[0;34m\u001b[0m\u001b[0;34m\u001b[0m\u001b[0m\n\u001b[0;32m---> 34\u001b[0;31m         \u001b[0mout\u001b[0m \u001b[0;34m=\u001b[0m \u001b[0mF\u001b[0m\u001b[0;34m.\u001b[0m\u001b[0mmax_pool2d\u001b[0m\u001b[0;34m(\u001b[0m\u001b[0mself\u001b[0m\u001b[0;34m.\u001b[0m\u001b[0mconv2_batchnorm\u001b[0m\u001b[0;34m(\u001b[0m\u001b[0mtorch\u001b[0m\u001b[0;34m.\u001b[0m\u001b[0mrelu\u001b[0m\u001b[0;34m(\u001b[0m\u001b[0mself\u001b[0m\u001b[0;34m.\u001b[0m\u001b[0mconv2\u001b[0m\u001b[0;34m(\u001b[0m\u001b[0mout\u001b[0m\u001b[0;34m)\u001b[0m\u001b[0;34m)\u001b[0m\u001b[0;34m)\u001b[0m\u001b[0;34m,\u001b[0m\u001b[0;36m2\u001b[0m\u001b[0;34m)\u001b[0m\u001b[0;34m\u001b[0m\u001b[0;34m\u001b[0m\u001b[0m\n\u001b[0m\u001b[1;32m     35\u001b[0m         \u001b[0mout\u001b[0m \u001b[0;34m=\u001b[0m \u001b[0mF\u001b[0m\u001b[0;34m.\u001b[0m\u001b[0mmax_pool2d\u001b[0m\u001b[0;34m(\u001b[0m\u001b[0mself\u001b[0m\u001b[0;34m.\u001b[0m\u001b[0mconv3_batchnorm\u001b[0m\u001b[0;34m(\u001b[0m\u001b[0mtorch\u001b[0m\u001b[0;34m.\u001b[0m\u001b[0mrelu\u001b[0m\u001b[0;34m(\u001b[0m\u001b[0mself\u001b[0m\u001b[0;34m.\u001b[0m\u001b[0mconv3\u001b[0m\u001b[0;34m(\u001b[0m\u001b[0mout\u001b[0m\u001b[0;34m)\u001b[0m\u001b[0;34m)\u001b[0m\u001b[0;34m)\u001b[0m\u001b[0;34m,\u001b[0m\u001b[0;36m2\u001b[0m\u001b[0;34m)\u001b[0m\u001b[0;34m\u001b[0m\u001b[0;34m\u001b[0m\u001b[0m\n\u001b[1;32m     36\u001b[0m         \u001b[0mout\u001b[0m \u001b[0;34m=\u001b[0m \u001b[0mF\u001b[0m\u001b[0;34m.\u001b[0m\u001b[0mmax_pool2d\u001b[0m\u001b[0;34m(\u001b[0m\u001b[0mself\u001b[0m\u001b[0;34m.\u001b[0m\u001b[0mconv4_batchnorm\u001b[0m\u001b[0;34m(\u001b[0m\u001b[0mtorch\u001b[0m\u001b[0;34m.\u001b[0m\u001b[0mrelu\u001b[0m\u001b[0;34m(\u001b[0m\u001b[0mself\u001b[0m\u001b[0;34m.\u001b[0m\u001b[0mconv4\u001b[0m\u001b[0;34m(\u001b[0m\u001b[0mout\u001b[0m\u001b[0;34m)\u001b[0m\u001b[0;34m)\u001b[0m\u001b[0;34m)\u001b[0m\u001b[0;34m,\u001b[0m\u001b[0;36m2\u001b[0m\u001b[0;34m)\u001b[0m\u001b[0;34m\u001b[0m\u001b[0;34m\u001b[0m\u001b[0m\n",
            "\u001b[0;32m/usr/local/lib/python3.8/dist-packages/torch/nn/modules/module.py\u001b[0m in \u001b[0;36m_call_impl\u001b[0;34m(self, *input, **kwargs)\u001b[0m\n\u001b[1;32m   1192\u001b[0m         if not (self._backward_hooks or self._forward_hooks or self._forward_pre_hooks or _global_backward_hooks\n\u001b[1;32m   1193\u001b[0m                 or _global_forward_hooks or _global_forward_pre_hooks):\n\u001b[0;32m-> 1194\u001b[0;31m             \u001b[0;32mreturn\u001b[0m \u001b[0mforward_call\u001b[0m\u001b[0;34m(\u001b[0m\u001b[0;34m*\u001b[0m\u001b[0minput\u001b[0m\u001b[0;34m,\u001b[0m \u001b[0;34m**\u001b[0m\u001b[0mkwargs\u001b[0m\u001b[0;34m)\u001b[0m\u001b[0;34m\u001b[0m\u001b[0;34m\u001b[0m\u001b[0m\n\u001b[0m\u001b[1;32m   1195\u001b[0m         \u001b[0;31m# Do not call functions when jit is used\u001b[0m\u001b[0;34m\u001b[0m\u001b[0;34m\u001b[0m\u001b[0;34m\u001b[0m\u001b[0m\n\u001b[1;32m   1196\u001b[0m         \u001b[0mfull_backward_hooks\u001b[0m\u001b[0;34m,\u001b[0m \u001b[0mnon_full_backward_hooks\u001b[0m \u001b[0;34m=\u001b[0m \u001b[0;34m[\u001b[0m\u001b[0;34m]\u001b[0m\u001b[0;34m,\u001b[0m \u001b[0;34m[\u001b[0m\u001b[0;34m]\u001b[0m\u001b[0;34m\u001b[0m\u001b[0;34m\u001b[0m\u001b[0m\n",
            "\u001b[0;32m/usr/local/lib/python3.8/dist-packages/torch/nn/modules/conv.py\u001b[0m in \u001b[0;36mforward\u001b[0;34m(self, input)\u001b[0m\n\u001b[1;32m    461\u001b[0m \u001b[0;34m\u001b[0m\u001b[0m\n\u001b[1;32m    462\u001b[0m     \u001b[0;32mdef\u001b[0m \u001b[0mforward\u001b[0m\u001b[0;34m(\u001b[0m\u001b[0mself\u001b[0m\u001b[0;34m,\u001b[0m \u001b[0minput\u001b[0m\u001b[0;34m:\u001b[0m \u001b[0mTensor\u001b[0m\u001b[0;34m)\u001b[0m \u001b[0;34m->\u001b[0m \u001b[0mTensor\u001b[0m\u001b[0;34m:\u001b[0m\u001b[0;34m\u001b[0m\u001b[0;34m\u001b[0m\u001b[0m\n\u001b[0;32m--> 463\u001b[0;31m         \u001b[0;32mreturn\u001b[0m \u001b[0mself\u001b[0m\u001b[0;34m.\u001b[0m\u001b[0m_conv_forward\u001b[0m\u001b[0;34m(\u001b[0m\u001b[0minput\u001b[0m\u001b[0;34m,\u001b[0m \u001b[0mself\u001b[0m\u001b[0;34m.\u001b[0m\u001b[0mweight\u001b[0m\u001b[0;34m,\u001b[0m \u001b[0mself\u001b[0m\u001b[0;34m.\u001b[0m\u001b[0mbias\u001b[0m\u001b[0;34m)\u001b[0m\u001b[0;34m\u001b[0m\u001b[0;34m\u001b[0m\u001b[0m\n\u001b[0m\u001b[1;32m    464\u001b[0m \u001b[0;34m\u001b[0m\u001b[0m\n\u001b[1;32m    465\u001b[0m \u001b[0;32mclass\u001b[0m \u001b[0mConv3d\u001b[0m\u001b[0;34m(\u001b[0m\u001b[0m_ConvNd\u001b[0m\u001b[0;34m)\u001b[0m\u001b[0;34m:\u001b[0m\u001b[0;34m\u001b[0m\u001b[0;34m\u001b[0m\u001b[0m\n",
            "\u001b[0;32m/usr/local/lib/python3.8/dist-packages/torch/nn/modules/conv.py\u001b[0m in \u001b[0;36m_conv_forward\u001b[0;34m(self, input, weight, bias)\u001b[0m\n\u001b[1;32m    457\u001b[0m                             \u001b[0mweight\u001b[0m\u001b[0;34m,\u001b[0m \u001b[0mbias\u001b[0m\u001b[0;34m,\u001b[0m \u001b[0mself\u001b[0m\u001b[0;34m.\u001b[0m\u001b[0mstride\u001b[0m\u001b[0;34m,\u001b[0m\u001b[0;34m\u001b[0m\u001b[0;34m\u001b[0m\u001b[0m\n\u001b[1;32m    458\u001b[0m                             _pair(0), self.dilation, self.groups)\n\u001b[0;32m--> 459\u001b[0;31m         return F.conv2d(input, weight, bias, self.stride,\n\u001b[0m\u001b[1;32m    460\u001b[0m                         self.padding, self.dilation, self.groups)\n\u001b[1;32m    461\u001b[0m \u001b[0;34m\u001b[0m\u001b[0m\n",
            "\u001b[0;31mKeyboardInterrupt\u001b[0m: "
          ]
        }
      ]
    },
    {
      "cell_type": "code",
      "execution_count": 10,
      "metadata": {
        "id": "fr1NGbNXfUye"
      },
      "outputs": [],
      "source": [
        "#建立訓練迴圈、計算loss、accuracy\n",
        "import datetime\n",
        "def tranining_loop(n_epochs,optimizer,model,loss_fn,train_loader,val_loader):\n",
        "  train_loss_list = [];train_accuracy_list = [];val_loss_list = [];val_accuracy_list = []\n",
        "  for epoch in range(1,n_epochs+1):\n",
        "    loss_train = 0.0\n",
        "    total_train = 0.0\n",
        "    correct_train = 0.0\n",
        "    model.train()\n",
        "    for imgs, labels in train_loader:\n",
        "      outputs = model(imgs)#每次取出一批次資料未入模型中\n",
        "      loss = loss_fn(outputs, labels)#計算損失 def image_cut(imgs,pos_num):\n",
        "\n",
        "\n",
        "      optimizer.zero_grad()#將上一輪的梯度清除\n",
        "      loss.backward()#反向運行一次，以便取得損失對所有可訓練參數的梯度\n",
        "      optimizer.step()#更新模型參數\n",
        "      loss_train += loss.item()#將此次訓練週期中的所有損加總起來\n",
        "\n",
        "      _,predicted = torch.max(outputs,dim=1)\n",
        "      correct_train += int((((predicted==labels).sum(1))==4).sum())\n",
        "      total_train += labels.shape[0]#計算一共有多少樣本\n",
        "\n",
        "    train_loss_list.append(loss_train/len(train_loader))\n",
        "    train_accuracy_list.append(correct_train/total_train)\n",
        "\n",
        "    loss_val = 0.0\n",
        "    total_val = 0.0\n",
        "    correct_val = 0.0\n",
        "    model.eval()\n",
        "    for imgs, labels in val_loader:\n",
        "      outputs = model(imgs)#每次取出一批次資料未入模型中\n",
        "      loss = loss_fn(outputs, labels)#計算損失 def image_cut(imgs,pos_num):\n",
        "      loss_val += loss.item()\n",
        "\n",
        "      _,predicted = torch.max(outputs,dim=1)\n",
        "      correct_val += int((((predicted==labels).sum(1))==4).sum())\n",
        "      total_val += labels.shape[0]\n",
        "\n",
        "    val_loss_list.append(loss_val/len(val_loader))\n",
        "    val_accuracy_list.append(correct_val/total_val)\n",
        "\n",
        "    if epoch % 1 == 0 or epoch == 10:\n",
        "      print('{} Epoch {}, Traning loss {:.6f}, Traning acc {:.6f}, Val loss {:.6f}, val acc {:.6f}'.format(datetime.datetime.now(),epoch,loss_train/len(train_loader),correct_train/total_train,loss_val/len(val_loader),correct_val/total_val))\n",
        "  return train_loss_list, train_accuracy_list, val_loss_list, val_accuracy_list"
      ]
    },
    {
      "cell_type": "code",
      "source": [
        "model = Net()#建立模型\n",
        "learning_rate = 1e-1\n",
        "optimizer = torch.optim.SGD(model.parameters(),lr=learning_rate)#隨機梯度下降優化器\n",
        "loss_fn = nn.CrossEntropyLoss()#交叉商損失函數\n",
        "n_epochs = 15\n",
        "train_loss_list,train_accuracy_list,val_loss_list,val_accuracy_list=tranining_loop(n_epochs,\n",
        "               optimizer=optimizer,\n",
        "               model=model,\n",
        "               loss_fn=loss_fn,\n",
        "               train_loader=trainloader,\n",
        "               val_loader=valloader)"
      ],
      "metadata": {
        "colab": {
          "base_uri": "https://localhost:8080/"
        },
        "id": "ujdVnHcyRaMm",
        "outputId": "be08693b-b647-46dd-84e6-f038e2f91b84"
      },
      "execution_count": 11,
      "outputs": [
        {
          "output_type": "stream",
          "name": "stdout",
          "text": [
            "2023-01-12 14:48:41.494335 Epoch 1, Traning loss 1.293308, Traning acc 0.061000, Val loss 1.628685, val acc 0.050000\n",
            "2023-01-12 14:50:50.230299 Epoch 2, Traning loss 0.842226, Traning acc 0.278000, Val loss 1.549722, val acc 0.040000\n",
            "2023-01-12 14:53:05.061218 Epoch 3, Traning loss 0.618927, Traning acc 0.440000, Val loss 1.070498, val acc 0.140000\n",
            "2023-01-12 14:55:16.343959 Epoch 4, Traning loss 0.268057, Traning acc 0.799000, Val loss 0.979908, val acc 0.250000\n",
            "2023-01-12 14:57:31.039515 Epoch 5, Traning loss 0.098038, Traning acc 0.951000, Val loss 1.029993, val acc 0.270000\n",
            "2023-01-12 14:59:41.510375 Epoch 6, Traning loss 0.042083, Traning acc 0.989000, Val loss 0.994038, val acc 0.320000\n",
            "2023-01-12 15:01:54.565697 Epoch 7, Traning loss 0.020935, Traning acc 0.998000, Val loss 1.052928, val acc 0.350000\n",
            "2023-01-12 15:04:08.395648 Epoch 8, Traning loss 0.018480, Traning acc 0.998000, Val loss 1.033643, val acc 0.310000\n",
            "2023-01-12 15:06:19.562109 Epoch 9, Traning loss 0.013555, Traning acc 0.997000, Val loss 1.029409, val acc 0.350000\n",
            "2023-01-12 15:08:31.809504 Epoch 10, Traning loss 0.008790, Traning acc 1.000000, Val loss 1.048002, val acc 0.330000\n",
            "2023-01-12 15:10:44.582087 Epoch 11, Traning loss 0.007698, Traning acc 1.000000, Val loss 1.065546, val acc 0.330000\n",
            "2023-01-12 15:13:02.879198 Epoch 12, Traning loss 0.006290, Traning acc 1.000000, Val loss 1.039134, val acc 0.330000\n",
            "2023-01-12 15:15:16.090596 Epoch 13, Traning loss 0.006186, Traning acc 1.000000, Val loss 1.015419, val acc 0.370000\n",
            "2023-01-12 15:17:26.510242 Epoch 14, Traning loss 0.005418, Traning acc 1.000000, Val loss 1.089869, val acc 0.360000\n",
            "2023-01-12 15:19:42.510004 Epoch 15, Traning loss 0.004172, Traning acc 1.000000, Val loss 1.033361, val acc 0.350000\n"
          ]
        }
      ]
    },
    {
      "cell_type": "code",
      "source": [
        "epoch = np.arange(1,n_epochs+1)\n",
        "print(max(val_accuracy_list))\n",
        "plt.plot(epoch,train_loss_list,label=\"train loss\")\n",
        "plt.plot(epoch,train_accuracy_list,label=\"train acc\")\n",
        "plt.plot(epoch,val_loss_list,label=\"val loss\")\n",
        "plt.plot(epoch,val_accuracy_list,label=\"val acc\")\n",
        "plt.legend()\n",
        "plt.xlabel(\"epoch\")\n",
        "plt.title(\"loss & accuracy\")\n",
        "plt.savefig('/content/drive/MyDrive/1000s_b128_0.32(0.41).png')\n",
        "plt.show()"
      ],
      "metadata": {
        "id": "V5DBFuIIf6l0",
        "colab": {
          "base_uri": "https://localhost:8080/",
          "height": 312
        },
        "outputId": "208f62ba-2722-4a87-ac16-f8ba1eefa077"
      },
      "execution_count": 12,
      "outputs": [
        {
          "output_type": "stream",
          "name": "stdout",
          "text": [
            "0.37\n"
          ]
        },
        {
          "output_type": "display_data",
          "data": {
            "text/plain": [
              "<Figure size 432x288 with 1 Axes>"
            ],
            "image/png": "[encoded data removed]"
          },
          "metadata": {
            "needs_background": "light"
          }
        }
      ]
    },
    {
      "cell_type": "code",
      "source": [],
      "metadata": {
        "id": "jiQhCDZuGcy-"
      },
      "execution_count": null,
      "outputs": []
    }
  ],
  "metadata": {
    "colab": {
      "provenance": []
    },
    "kernelspec": {
      "display_name": "Python 3",
      "name": "python3"
    },
    "language_info": {
      "name": "python"
    }
  },
  "nbformat": 4,
  "nbformat_minor": 0
}